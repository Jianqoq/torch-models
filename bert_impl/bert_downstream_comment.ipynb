{
 "cells": [
  {
   "cell_type": "code",
   "execution_count": 36,
   "metadata": {
    "collapsed": true,
    "ExecuteTime": {
     "end_time": "2023-06-23T23:32:20.677809600Z",
     "start_time": "2023-06-23T23:32:20.659810200Z"
    }
   },
   "outputs": [],
   "source": [
    "from torch.nn.utils.rnn import pad_sequence\n",
    "from Bert import Bert\n",
    "import torch\n",
    "from tokenizers.implementations import BertWordPieceTokenizer"
   ]
  },
  {
   "cell_type": "code",
   "execution_count": 37,
   "outputs": [],
   "source": [
    "_embedding_dim = 384\n",
    "_hidden_size = 3072\n",
    "_num_head = 12\n",
    "_num_layers = 12\n",
    "_tokenizer = BertWordPieceTokenizer(\"custom/vocab.txt\")"
   ],
   "metadata": {
    "collapsed": false,
    "ExecuteTime": {
     "end_time": "2023-06-23T23:32:21.316149800Z",
     "start_time": "2023-06-23T23:32:21.284640900Z"
    }
   }
  },
  {
   "cell_type": "code",
   "execution_count": 38,
   "outputs": [
    {
     "data": {
      "text/plain": "Linear(in_features=384, out_features=2, bias=True)"
     },
     "execution_count": 38,
     "metadata": {},
     "output_type": "execute_result"
    }
   ],
   "source": [
    "bert = Bert(_embedding_dim, _hidden_size, _num_head, 128, _num_layers, _tokenizer, device='cuda:0')\n",
    "classifier = torch.nn.Linear(_embedding_dim, 2, device='cuda:0')\n",
    "bert.load_state_dict(torch.load(\"down_stream_bert.pth\"))\n",
    "classifier.load_state_dict(torch.load(\"down_stream.pth\"))\n",
    "bert.eval()\n",
    "classifier.eval()"
   ],
   "metadata": {
    "collapsed": false,
    "ExecuteTime": {
     "end_time": "2023-06-23T23:32:22.234934600Z",
     "start_time": "2023-06-23T23:32:22.047150700Z"
    }
   }
  },
  {
   "cell_type": "markdown",
   "source": [
    "1. 把句子转换成张量"
   ],
   "metadata": {
    "collapsed": false
   }
  },
  {
   "cell_type": "code",
   "execution_count": 95,
   "outputs": [
    {
     "data": {
      "text/plain": "tensor([[    2, 28479,    16,  1829,  4194,  1692,  2101,  7671,     5,     3,\n             0,     0],\n        [    2,  2790,  5424,  1683,  4617, 27553,     3,     0,     0,     0,\n             0,     0],\n        [    2,  1829,  1692,  1831,  4226,    16,  1745,  1692,  5965,     3,\n             0,     0],\n        [    2,  1878,  3105,  1829,  7976,    16,  2790,  5424,  1683,  4617,\n         27553,     3]], device='cuda:0')"
     },
     "execution_count": 95,
     "metadata": {},
     "output_type": "execute_result"
    }
   ],
   "source": [
    "sentences = ['Wow, this product is so perfect!', 'My dog was dead yesterday', 'This is not bad, it is fine',\n",
    "             'After using this thing, My dog was dead yesterday']\n",
    "ids = pad_sequence([torch.tensor(_tokenizer.encode(i).ids, dtype=torch.long, device='cuda:0') for i in sentences], batch_first=True)\n",
    "ids"
   ],
   "metadata": {
    "collapsed": false,
    "ExecuteTime": {
     "end_time": "2023-06-24T00:09:42.421584800Z",
     "start_time": "2023-06-24T00:09:42.372578100Z"
    }
   }
  },
  {
   "cell_type": "markdown",
   "source": [
    "2. 获取输入的第一个分类token的值"
   ],
   "metadata": {
    "collapsed": false
   }
  },
  {
   "cell_type": "code",
   "execution_count": 96,
   "outputs": [
    {
     "data": {
      "text/plain": "tensor([[-0.6545,  4.2176],\n        [ 1.0532,  1.0461],\n        [-0.7777,  3.9766],\n        [ 2.3728, -0.4527]], device='cuda:0')"
     },
     "execution_count": 96,
     "metadata": {},
     "output_type": "execute_result"
    }
   ],
   "source": [
    "with torch.no_grad():\n",
    "    score = bert.forward(ids, torch.not_equal(ids, 0))\n",
    "    score = classifier(score)[:, 0, :]\n",
    "score"
   ],
   "metadata": {
    "collapsed": false,
    "ExecuteTime": {
     "end_time": "2023-06-24T00:09:44.836371800Z",
     "start_time": "2023-06-24T00:09:44.786375200Z"
    }
   }
  },
  {
   "cell_type": "markdown",
   "source": [
    "3. 获取概率"
   ],
   "metadata": {
    "collapsed": false
   }
  },
  {
   "cell_type": "code",
   "execution_count": 97,
   "outputs": [
    {
     "data": {
      "text/plain": "tensor([[0.0076, 0.9924],\n        [0.5018, 0.4982],\n        [0.0085, 0.9915],\n        [0.9440, 0.0560]], device='cuda:0')"
     },
     "execution_count": 97,
     "metadata": {},
     "output_type": "execute_result"
    }
   ],
   "source": [
    "possibility = torch.nn.Softmax(dim=-1)(score)\n",
    "possibility"
   ],
   "metadata": {
    "collapsed": false,
    "ExecuteTime": {
     "end_time": "2023-06-24T00:09:46.663848100Z",
     "start_time": "2023-06-24T00:09:46.654849400Z"
    }
   }
  },
  {
   "cell_type": "markdown",
   "source": [
    "4. 获取最高概率(0.9924)"
   ],
   "metadata": {
    "collapsed": false
   }
  },
  {
   "cell_type": "code",
   "execution_count": 98,
   "outputs": [
    {
     "data": {
      "text/plain": "tensor([1, 0, 1, 0], device='cuda:0')"
     },
     "execution_count": 98,
     "metadata": {},
     "output_type": "execute_result"
    }
   ],
   "source": [
    "torch.argmax(possibility, dim=-1)"
   ],
   "metadata": {
    "collapsed": false,
    "ExecuteTime": {
     "end_time": "2023-06-24T00:09:50.990308900Z",
     "start_time": "2023-06-24T00:09:50.962556400Z"
    }
   }
  }
 ],
 "metadata": {
  "kernelspec": {
   "display_name": "Python 3",
   "language": "python",
   "name": "python3"
  },
  "language_info": {
   "codemirror_mode": {
    "name": "ipython",
    "version": 2
   },
   "file_extension": ".py",
   "mimetype": "text/x-python",
   "name": "python",
   "nbconvert_exporter": "python",
   "pygments_lexer": "ipython2",
   "version": "2.7.6"
  }
 },
 "nbformat": 4,
 "nbformat_minor": 0
}
