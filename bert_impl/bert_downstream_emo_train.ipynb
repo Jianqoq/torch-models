{
 "cells": [
  {
   "cell_type": "code",
   "execution_count": 6,
   "metadata": {
    "collapsed": true,
    "ExecuteTime": {
     "end_time": "2023-06-24T04:11:04.643609400Z",
     "start_time": "2023-06-24T04:11:04.638110200Z"
    }
   },
   "outputs": [],
   "source": [
    "import json\n",
    "\n",
    "from tokenizers.implementations import BertWordPieceTokenizer\n",
    "from Bert import Bert\n",
    "from layers import Train\n",
    "import torch\n",
    "from torch.nn import Linear\n",
    "device = torch.device(\"cuda:0\" if torch.cuda.is_available() else \"cpu\")"
   ]
  },
  {
   "cell_type": "code",
   "execution_count": 7,
   "outputs": [
    {
     "data": {
      "text/plain": "<All keys matched successfully>"
     },
     "execution_count": 7,
     "metadata": {},
     "output_type": "execute_result"
    }
   ],
   "source": [
    "_tokenizer = BertWordPieceTokenizer(\"../custom/vocab.txt\")\n",
    "_embedding_dim = 384\n",
    "_hidden_size = 3072\n",
    "_num_head = 12\n",
    "_out_dim = 512\n",
    "max_epoch = 17\n",
    "batch = 140\n",
    "_num_layers = 12\n",
    "vocab_size = _tokenizer.get_vocab_size()\n",
    "bert = Bert(_embedding_dim, _hidden_size, _num_head, 128, _num_layers, _tokenizer)\n",
    "bert.load_state_dict(torch.load(\"../bert_impl_weights/bert.pth\"))"
   ],
   "metadata": {
    "collapsed": false,
    "ExecuteTime": {
     "end_time": "2023-06-24T04:11:04.799135900Z",
     "start_time": "2023-06-24T04:11:04.646114300Z"
    }
   }
  },
  {
   "cell_type": "code",
   "execution_count": 8,
   "outputs": [
    {
     "data": {
      "text/plain": "tensor([[    2,    50,  7569,  ...,     0,     0,     0],\n        [    2,    50,  1935,  ...,     0,     0,     0],\n        [    2,  2399, 12844,  ...,     0,     0,     0],\n        ...,\n        [    2,    50,  5271,  ...,     0,     0,     0],\n        [    2,    50,  5271,  ...,     0,     0,     0],\n        [    2,    50,  3821,  ...,     0,     0,     0]], device='cuda:0')"
     },
     "execution_count": 8,
     "metadata": {},
     "output_type": "execute_result"
    }
   ],
   "source": [
    "from torch.nn.utils.rnn import pad_sequence\n",
    "\n",
    "with open(\"../bert_impl_data/emo_train.txt\", \"r\", encoding=\"utf-8\") as fp:\n",
    "    label = set([])\n",
    "    data = fp.readlines()\n",
    "    sentence = []\n",
    "    labels = []\n",
    "    max_len = 0\n",
    "    for idx, i in enumerate(data):\n",
    "        datas = data[idx].split(';')\n",
    "        l = datas[1].replace('\\n', '')\n",
    "        sentence.append(datas[0])\n",
    "        labels.append(l)\n",
    "        label.add(l)\n",
    "    label = {v: k for k, v in enumerate(label)}\n",
    "    for idx, i in enumerate(labels):\n",
    "        labels[idx] = label[labels[idx]]\n",
    "    for idx, sent in enumerate(sentence):\n",
    "        sentence[idx] = torch.tensor(_tokenizer.encode(sent).ids, dtype=torch.long, device=device)\n",
    "        if len(sentence[idx]) >= max_len:\n",
    "            max_len = len(sentence[idx])\n",
    "    sentence.append(torch.tensor([0] * max_len, dtype=torch.long, device=device))\n",
    "    sentence = pad_sequence(sentence, batch_first=True)\n",
    "    sentence = sentence[:-1]\n",
    "    labels = torch.tensor(labels)\n",
    "    with open(\"../bert_impl_data/emo_class.json\", \"w\", encoding='utf-8') as f:\n",
    "        f.write(json.dumps(label, indent=4))\n",
    "sentence"
   ],
   "metadata": {
    "collapsed": false,
    "ExecuteTime": {
     "end_time": "2023-06-24T04:11:06.131989800Z",
     "start_time": "2023-06-24T04:11:04.801636300Z"
    }
   }
  },
  {
   "cell_type": "code",
   "execution_count": 9,
   "outputs": [
    {
     "data": {
      "text/plain": "tensor([[    2,  2399, 10133,  ...,     0,     0,     0],\n        [    2,    50,  5271,  ...,     0,     0,     0],\n        [    2,    50,  5271,  ...,     0,     0,     0],\n        ...,\n        [    2,    50,  5271,  ...,     0,     0,     0],\n        [    2,    50, 13385,  ...,     0,     0,     0],\n        [    2,    50,  5271,  ...,     0,     0,     0]], device='cuda:0')"
     },
     "execution_count": 9,
     "metadata": {},
     "output_type": "execute_result"
    }
   ],
   "source": [
    "with open(\"../bert_impl_data/emo_val.txt\", \"r\", encoding=\"utf-8\") as fp:\n",
    "    data = fp.readlines()\n",
    "    sentence_val = []\n",
    "    labels_val = []\n",
    "    max_len = 0\n",
    "    for idx, i in enumerate(data):\n",
    "        datas = data[idx].split(';')\n",
    "        l = datas[1].replace('\\n', '')\n",
    "        sentence_val.append(datas[0])\n",
    "        labels_val.append(l)\n",
    "    for idx, i in enumerate(labels_val):\n",
    "        labels_val[idx] = label[labels_val[idx]]\n",
    "    for idx, sent in enumerate(sentence_val):\n",
    "        sentence_val[idx] = torch.tensor(_tokenizer.encode(sent).ids, dtype=torch.long, device=device)\n",
    "        if len(sentence_val[idx]) >= max_len:\n",
    "            max_len = len(sentence_val[idx])\n",
    "    sentence_val.append(torch.tensor([0] * (max_len + 1), dtype=torch.long, device=device))\n",
    "    sentence_val = pad_sequence(sentence_val, batch_first=True)\n",
    "    sentence_val = sentence_val[:-1]\n",
    "    labels_val = torch.tensor(labels_val)\n",
    "sentence_val"
   ],
   "metadata": {
    "collapsed": false,
    "ExecuteTime": {
     "end_time": "2023-06-24T04:11:06.319006900Z",
     "start_time": "2023-06-24T04:11:06.134491Z"
    }
   }
  },
  {
   "cell_type": "code",
   "execution_count": 10,
   "outputs": [
    {
     "name": "stdout",
     "output_type": "stream",
     "text": [
      "copy to run: tensorboard --logdir=C:\\Users\\123\\PycharmProjects\\torch-models\\bert_impl\\Bert_down_stream_emo --port=6006 --reload_interval=30\n",
      " ▏Epoch: │████████████████████│ 100.00% ▏Iter: │████████████████████│ 100.00% ▏Time: 2min23s ▏loss: 0.05397 "
     ]
    }
   ],
   "source": [
    "import time\n",
    "\n",
    "\n",
    "class Emo_trainer(Train):\n",
    "    def __init__(self, model, optimizer):\n",
    "        super().__init__(model, optimizer)\n",
    "\n",
    "    def down_stream(self, batch_size, max_epoch, layer: torch.nn.Module, log=True, log_dir=None, Tensorboard_reloadInterval=30,\n",
    "                    log_file_name='', monitor=True, pick_params=False):\n",
    "        from torch.cuda.amp import GradScaler, autocast\n",
    "        begin = time.time()\n",
    "        max_iter = 0\n",
    "        loss = 0\n",
    "        scaler = GradScaler()\n",
    "        if log:\n",
    "            self.open_tensorboard(log_dir, Tensorboard_reloadInterval, f\"({log_file_name})\")\n",
    "        COUNT = 0\n",
    "        loss_func = torch.nn.CrossEntropyLoss()\n",
    "        path = None\n",
    "        min_loss = 20\n",
    "        best_loss = 20\n",
    "\n",
    "        def run(train):\n",
    "            try:\n",
    "                score = self._model.forward(train, mask.to(device=device))\n",
    "                score = layer(score)[:, 0, :]\n",
    "                score = loss_func.forward(score, answer)\n",
    "                return score\n",
    "            except Exception as e:\n",
    "                raise e\n",
    "\n",
    "        train_question = sentence\n",
    "        test_question = sentence_val\n",
    "        train_answer = labels\n",
    "        test_answer = labels_val\n",
    "        for epoch in range(max_epoch):\n",
    "            # torch.cuda.empty_cache()\n",
    "            iters = 0\n",
    "            max_iter = len(train_question) // batch_size\n",
    "            average_loss = 0\n",
    "            for i in range(max_iter):\n",
    "                start = i * batch_size + 1\n",
    "                if pick_params:\n",
    "                    article = train_question[start:(i + 1) * batch_size + 1].to(device=device, dtype=torch.long)\n",
    "                    mask0 = train_answer[start:(i + 1) * batch_size + 1].to(device=device)\n",
    "                self._optimizer.zero_grad()\n",
    "                with autocast():\n",
    "                    batch_question = train_question[start:(i + 1) * batch_size + 1].to(device=device)\n",
    "                    answer = train_answer[start:(i + 1) * batch_size + 1].to(device=device)\n",
    "                    mask = batch_question != 0\n",
    "                    loss = run(batch_question)\n",
    "                scaler.scale(loss).backward()\n",
    "                scaler.step(self._optimizer)\n",
    "                scaler.update()\n",
    "                loss = loss.detach_().item()\n",
    "                average_loss += loss\n",
    "\n",
    "                self.print_result((epoch, max_epoch), (iters, max_iter), loss, begin=begin, timing=True)\n",
    "                iters += 1\n",
    "            if self.writer:\n",
    "                COUNT += 1\n",
    "                try:\n",
    "                    if average_loss / max_iter < min_loss:\n",
    "                        min_loss = average_loss\n",
    "                        try:\n",
    "                            torch.save(layer.state_dict(), '../bert_impl_weights/down_stream_bert_emo_layer.pth')\n",
    "                            torch.save(self._model.state_dict(), '../bert_impl_weights/down_stream_bert_emo.pth')\n",
    "                        except Exception as e:\n",
    "                            print(e)\n",
    "                except ZeroDivisionError:\n",
    "                    print(average_loss, max_iter, path, len(train_question), batch_size)\n",
    "                correctness = self._model.down_stream(test_question, test_answer, batch_size, layer)\n",
    "                self.writer.add_scalar(\"loss\", average_loss / max_iter, COUNT)\n",
    "                self.writer.add_scalar(\"correctness\", correctness, COUNT)\n",
    "            self.print_result((epoch, max_epoch), (max_iter, max_iter), loss, begin=begin, timing=True)\n",
    "            try:\n",
    "                if best_loss >= average_loss:\n",
    "                    torch.save(layer.state_dict(), '../bert_impl_weights/down_stream_bert_emo_layer.pth')\n",
    "                    torch.save(self._model.state_dict(), '../bert_impl_weights/down_stream_bert_emo.pth')\n",
    "                    best_loss = average_loss\n",
    "                torch.save(layer.state_dict(), '../bert_impl_weights/down_stream_bert_emo_layer.pth')\n",
    "                torch.save(self._model.state_dict(), '../bert_impl_weights/down_stream_bert_emo.pth')\n",
    "            except Exception as e:\n",
    "                print(e)\n",
    "        self.print_result((max_epoch, max_epoch), (max_iter, max_iter), loss, begin=begin, timing=True)\n",
    "        if self.writer is not None and self.tensorboard_process is not None:\n",
    "            self.writer.close()\n",
    "            self.tensorboard_process.terminate()\n",
    "bert.train()\n",
    "layers = Linear(384, len(label), device=bert.device)\n",
    "optimizer = torch.optim.Adam(list(layers.parameters()) + list(bert.parameters()), lr=1e-4)\n",
    "trainer = Emo_trainer(bert, optimizer)\n",
    "trainer.add_bar('Epoch', 'Iter')\n",
    "trainer.add_metrics('loss', float)\n",
    "trainer.down_stream(batch, max_epoch, layers, log_dir=\"Bert_down_stream_emo\", log=True,\n",
    "                    log_file_name=\"Bert_down_stream_emo\", monitor=False)"
   ],
   "metadata": {
    "collapsed": false,
    "ExecuteTime": {
     "end_time": "2023-06-24T04:13:29.962536900Z",
     "start_time": "2023-06-24T04:11:06.326507400Z"
    }
   }
  }
 ],
 "metadata": {
  "kernelspec": {
   "display_name": "Python 3",
   "language": "python",
   "name": "python3"
  },
  "language_info": {
   "codemirror_mode": {
    "name": "ipython",
    "version": 2
   },
   "file_extension": ".py",
   "mimetype": "text/x-python",
   "name": "python",
   "nbconvert_exporter": "python",
   "pygments_lexer": "ipython2",
   "version": "2.7.6"
  }
 },
 "nbformat": 4,
 "nbformat_minor": 0
}
