{
 "cells": [
  {
   "cell_type": "code",
   "execution_count": 43,
   "metadata": {
    "collapsed": true,
    "ExecuteTime": {
     "end_time": "2023-06-25T03:36:04.610268600Z",
     "start_time": "2023-06-25T03:36:04.426251400Z"
    }
   },
   "outputs": [
    {
     "data": {
      "text/plain": "Bert(\n  (tokenEmbedding): Embedding(30522, 384)\n  (segmentEmbedding): Embedding(2, 384)\n  (position_embedding): Embedding(128, 384)\n  (encoder): ModuleList(\n    (0-11): 12 x Encoder(\n      (multiHeadAttention): MultiheadAttention(\n        (out_proj): NonDynamicallyQuantizableLinear(in_features=384, out_features=384, bias=True)\n      )\n      (layerNorm): LayerNorm((384,), eps=1e-05, elementwise_affine=True)\n      (feedForward): FeedForward(\n        (linear1): Linear(in_features=384, out_features=3072, bias=True)\n        (linear2): Linear(in_features=3072, out_features=384, bias=True)\n        (relu): GELU(approximate='none')\n      )\n      (layerNorm2): LayerNorm((384,), eps=1e-05, elementwise_affine=True)\n      (drop_out): Dropout(p=0.1, inplace=False)\n    )\n  )\n  (linear): Linear(in_features=384, out_features=30522, bias=True)\n  (softmax): Softmax(dim=-1)\n  (loss_func): CrossEntropyLoss()\n)",
      "text/html": "<style>#sk-container-id-3 {color: black;background-color: white;}#sk-container-id-3 pre{padding: 0;}#sk-container-id-3 div.sk-toggleable {background-color: white;}#sk-container-id-3 label.sk-toggleable__label {cursor: pointer;display: block;width: 100%;margin-bottom: 0;padding: 0.3em;box-sizing: border-box;text-align: center;}#sk-container-id-3 label.sk-toggleable__label-arrow:before {content: \"▸\";float: left;margin-right: 0.25em;color: #696969;}#sk-container-id-3 label.sk-toggleable__label-arrow:hover:before {color: black;}#sk-container-id-3 div.sk-estimator:hover label.sk-toggleable__label-arrow:before {color: black;}#sk-container-id-3 div.sk-toggleable__content {max-height: 0;max-width: 0;overflow: hidden;text-align: left;background-color: #f0f8ff;}#sk-container-id-3 div.sk-toggleable__content pre {margin: 0.2em;color: black;border-radius: 0.25em;background-color: #f0f8ff;}#sk-container-id-3 input.sk-toggleable__control:checked~div.sk-toggleable__content {max-height: 200px;max-width: 100%;overflow: auto;}#sk-container-id-3 input.sk-toggleable__control:checked~label.sk-toggleable__label-arrow:before {content: \"▾\";}#sk-container-id-3 div.sk-estimator input.sk-toggleable__control:checked~label.sk-toggleable__label {background-color: #d4ebff;}#sk-container-id-3 div.sk-label input.sk-toggleable__control:checked~label.sk-toggleable__label {background-color: #d4ebff;}#sk-container-id-3 input.sk-hidden--visually {border: 0;clip: rect(1px 1px 1px 1px);clip: rect(1px, 1px, 1px, 1px);height: 1px;margin: -1px;overflow: hidden;padding: 0;position: absolute;width: 1px;}#sk-container-id-3 div.sk-estimator {font-family: monospace;background-color: #f0f8ff;border: 1px dotted black;border-radius: 0.25em;box-sizing: border-box;margin-bottom: 0.5em;}#sk-container-id-3 div.sk-estimator:hover {background-color: #d4ebff;}#sk-container-id-3 div.sk-parallel-item::after {content: \"\";width: 100%;border-bottom: 1px solid gray;flex-grow: 1;}#sk-container-id-3 div.sk-label:hover label.sk-toggleable__label {background-color: #d4ebff;}#sk-container-id-3 div.sk-serial::before {content: \"\";position: absolute;border-left: 1px solid gray;box-sizing: border-box;top: 0;bottom: 0;left: 50%;z-index: 0;}#sk-container-id-3 div.sk-serial {display: flex;flex-direction: column;align-items: center;background-color: white;padding-right: 0.2em;padding-left: 0.2em;position: relative;}#sk-container-id-3 div.sk-item {position: relative;z-index: 1;}#sk-container-id-3 div.sk-parallel {display: flex;align-items: stretch;justify-content: center;background-color: white;position: relative;}#sk-container-id-3 div.sk-item::before, #sk-container-id-3 div.sk-parallel-item::before {content: \"\";position: absolute;border-left: 1px solid gray;box-sizing: border-box;top: 0;bottom: 0;left: 50%;z-index: -1;}#sk-container-id-3 div.sk-parallel-item {display: flex;flex-direction: column;z-index: 1;position: relative;background-color: white;}#sk-container-id-3 div.sk-parallel-item:first-child::after {align-self: flex-end;width: 50%;}#sk-container-id-3 div.sk-parallel-item:last-child::after {align-self: flex-start;width: 50%;}#sk-container-id-3 div.sk-parallel-item:only-child::after {width: 0;}#sk-container-id-3 div.sk-dashed-wrapped {border: 1px dashed gray;margin: 0 0.4em 0.5em 0.4em;box-sizing: border-box;padding-bottom: 0.4em;background-color: white;}#sk-container-id-3 div.sk-label label {font-family: monospace;font-weight: bold;display: inline-block;line-height: 1.2em;}#sk-container-id-3 div.sk-label-container {text-align: center;}#sk-container-id-3 div.sk-container {/* jupyter's `normalize.less` sets `[hidden] { display: none; }` but bootstrap.min.css set `[hidden] { display: none !important; }` so we also need the `!important` here to be able to override the default hidden behavior on the sphinx rendered scikit-learn.org. See: https://github.com/scikit-learn/scikit-learn/issues/21755 */display: inline-block !important;position: relative;}#sk-container-id-3 div.sk-text-repr-fallback {display: none;}</style><div id=\"sk-container-id-3\" class=\"sk-top-container\"><div class=\"sk-text-repr-fallback\"><pre>Bert(\n  (tokenEmbedding): Embedding(30522, 384)\n  (segmentEmbedding): Embedding(2, 384)\n  (position_embedding): Embedding(128, 384)\n  (encoder): ModuleList(\n    (0-11): 12 x Encoder(\n      (multiHeadAttention): MultiheadAttention(\n        (out_proj): NonDynamicallyQuantizableLinear(in_features=384, out_features=384, bias=True)\n      )\n      (layerNorm): LayerNorm((384,), eps=1e-05, elementwise_affine=True)\n      (feedForward): FeedForward(\n        (linear1): Linear(in_features=384, out_features=3072, bias=True)\n        (linear2): Linear(in_features=3072, out_features=384, bias=True)\n        (relu): GELU(approximate=&#x27;none&#x27;)\n      )\n      (layerNorm2): LayerNorm((384,), eps=1e-05, elementwise_affine=True)\n      (drop_out): Dropout(p=0.1, inplace=False)\n    )\n  )\n  (linear): Linear(in_features=384, out_features=30522, bias=True)\n  (softmax): Softmax(dim=-1)\n  (loss_func): CrossEntropyLoss()\n)</pre><b>In a Jupyter environment, please rerun this cell to show the HTML representation or trust the notebook. <br />On GitHub, the HTML representation is unable to render, please try loading this page with nbviewer.org.</b></div><div class=\"sk-container\" hidden><div class=\"sk-item\"><div class=\"sk-estimator sk-toggleable\"><input class=\"sk-toggleable__control sk-hidden--visually\" id=\"sk-estimator-id-3\" type=\"checkbox\" checked><label for=\"sk-estimator-id-3\" class=\"sk-toggleable__label sk-toggleable__label-arrow\">Bert</label><div class=\"sk-toggleable__content\"><pre>Bert(\n  (tokenEmbedding): Embedding(30522, 384)\n  (segmentEmbedding): Embedding(2, 384)\n  (position_embedding): Embedding(128, 384)\n  (encoder): ModuleList(\n    (0-11): 12 x Encoder(\n      (multiHeadAttention): MultiheadAttention(\n        (out_proj): NonDynamicallyQuantizableLinear(in_features=384, out_features=384, bias=True)\n      )\n      (layerNorm): LayerNorm((384,), eps=1e-05, elementwise_affine=True)\n      (feedForward): FeedForward(\n        (linear1): Linear(in_features=384, out_features=3072, bias=True)\n        (linear2): Linear(in_features=3072, out_features=384, bias=True)\n        (relu): GELU(approximate=&#x27;none&#x27;)\n      )\n      (layerNorm2): LayerNorm((384,), eps=1e-05, elementwise_affine=True)\n      (drop_out): Dropout(p=0.1, inplace=False)\n    )\n  )\n  (linear): Linear(in_features=384, out_features=30522, bias=True)\n  (softmax): Softmax(dim=-1)\n  (loss_func): CrossEntropyLoss()\n)</pre></div></div></div></div></div>"
     },
     "execution_count": 43,
     "metadata": {},
     "output_type": "execute_result"
    }
   ],
   "source": [
    "from torch.nn import Linear\n",
    "import json\n",
    "import torch\n",
    "from tokenizers.implementations import BertWordPieceTokenizer\n",
    "from Bert import Bert\n",
    "\n",
    "device = torch.device(\"cuda:0\" if torch.cuda.is_available() else \"cpu\")\n",
    "\n",
    "with open(\"../bert_impl_data/ner_class.json\", \"r\", encoding=\"utf-8\") as fp:\n",
    "    Class = json.load(fp)\n",
    "\n",
    "_tokenizer = BertWordPieceTokenizer(\"../custom/vocab.txt\")\n",
    "_embedding_dim = 384\n",
    "_hidden_size = 3072\n",
    "_num_head = 12\n",
    "_out_dim = 512\n",
    "max_epoch = 20\n",
    "batch = 140\n",
    "_num_layers = 12\n",
    "vocab_size = _tokenizer.get_vocab_size()\n",
    "bert = Bert(_embedding_dim, _hidden_size, _num_head, 128, _num_layers, _tokenizer)\n",
    "layers = Linear(384, len(Class['id_word']), device=bert.device)\n",
    "bert.load_state_dict(torch.load(\"../bert_impl_weights/down_stream_bert_ner.pth\"))\n",
    "layers.load_state_dict(torch.load(\"../bert_impl_weights/down_stream_bert_ner_layer.pth\"))\n",
    "bert.eval()"
   ]
  },
  {
   "cell_type": "code",
   "execution_count": 44,
   "outputs": [],
   "source": [
    "sentence = \"He is at Tianan men and he is heading to school.\"\n",
    "ids = _tokenizer.encode(sentence).ids\n",
    "inp = torch.tensor(ids, device=device)\n",
    "tokens = _tokenizer.encode(sentence).tokens[1:-1]"
   ],
   "metadata": {
    "collapsed": false,
    "ExecuteTime": {
     "end_time": "2023-06-25T03:36:04.627364200Z",
     "start_time": "2023-06-25T03:36:04.611269600Z"
    }
   }
  },
  {
   "cell_type": "code",
   "execution_count": 45,
   "outputs": [
    {
     "name": "stdout",
     "output_type": "stream",
     "text": [
      "he is at tianan men and he is heading to school.\n",
      "         地理政治实体前缀                                     \n"
     ]
    }
   ],
   "source": [
    "with torch.no_grad():\n",
    "    score = bert.forward(inp, (inp != 0).to(device=device))\n",
    "    score = layers.forward(score)\n",
    "    possibility = bert.softmax(score)\n",
    "    predict = torch.argmax(possibility, dim=-1)\n",
    "ls = predict.tolist()[1:-1]\n",
    "print(_tokenizer.decode(ids))\n",
    "print(' '.join([Class['id_real'][str(i)] * len(tokens[idx].replace('##', '')) if str(i) == \"10\" else Class['id_real'][str(i)] for idx, i in enumerate(ls)]))"
   ],
   "metadata": {
    "collapsed": false,
    "ExecuteTime": {
     "end_time": "2023-06-25T03:36:04.684882200Z",
     "start_time": "2023-06-25T03:36:04.626864200Z"
    }
   }
  }
 ],
 "metadata": {
  "kernelspec": {
   "display_name": "Python 3",
   "language": "python",
   "name": "python3"
  },
  "language_info": {
   "codemirror_mode": {
    "name": "ipython",
    "version": 2
   },
   "file_extension": ".py",
   "mimetype": "text/x-python",
   "name": "python",
   "nbconvert_exporter": "python",
   "pygments_lexer": "ipython2",
   "version": "2.7.6"
  }
 },
 "nbformat": 4,
 "nbformat_minor": 0
}
