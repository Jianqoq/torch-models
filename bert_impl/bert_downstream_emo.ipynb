{
 "cells": [
  {
   "cell_type": "code",
   "execution_count": 6,
   "metadata": {
    "collapsed": true,
    "ExecuteTime": {
     "end_time": "2023-06-24T04:41:44.731199500Z",
     "start_time": "2023-06-24T04:41:44.552719400Z"
    }
   },
   "outputs": [
    {
     "data": {
      "text/plain": "Bert(\n  (tokenEmbedding): Embedding(30522, 384)\n  (segmentEmbedding): Embedding(2, 384)\n  (position_embedding): Embedding(128, 384)\n  (encoder): ModuleList(\n    (0-11): 12 x Encoder(\n      (multiHeadAttention): MultiheadAttention(\n        (out_proj): NonDynamicallyQuantizableLinear(in_features=384, out_features=384, bias=True)\n      )\n      (layerNorm): LayerNorm((384,), eps=1e-05, elementwise_affine=True)\n      (feedForward): FeedForward(\n        (linear1): Linear(in_features=384, out_features=3072, bias=True)\n        (linear2): Linear(in_features=3072, out_features=384, bias=True)\n        (relu): GELU(approximate='none')\n      )\n      (layerNorm2): LayerNorm((384,), eps=1e-05, elementwise_affine=True)\n      (drop_out): Dropout(p=0.1, inplace=False)\n    )\n  )\n  (linear): Linear(in_features=384, out_features=30522, bias=True)\n  (softmax): Softmax(dim=-1)\n  (loss_func): CrossEntropyLoss()\n)",
      "text/html": "<style>#sk-container-id-2 {color: black;background-color: white;}#sk-container-id-2 pre{padding: 0;}#sk-container-id-2 div.sk-toggleable {background-color: white;}#sk-container-id-2 label.sk-toggleable__label {cursor: pointer;display: block;width: 100%;margin-bottom: 0;padding: 0.3em;box-sizing: border-box;text-align: center;}#sk-container-id-2 label.sk-toggleable__label-arrow:before {content: \"▸\";float: left;margin-right: 0.25em;color: #696969;}#sk-container-id-2 label.sk-toggleable__label-arrow:hover:before {color: black;}#sk-container-id-2 div.sk-estimator:hover label.sk-toggleable__label-arrow:before {color: black;}#sk-container-id-2 div.sk-toggleable__content {max-height: 0;max-width: 0;overflow: hidden;text-align: left;background-color: #f0f8ff;}#sk-container-id-2 div.sk-toggleable__content pre {margin: 0.2em;color: black;border-radius: 0.25em;background-color: #f0f8ff;}#sk-container-id-2 input.sk-toggleable__control:checked~div.sk-toggleable__content {max-height: 200px;max-width: 100%;overflow: auto;}#sk-container-id-2 input.sk-toggleable__control:checked~label.sk-toggleable__label-arrow:before {content: \"▾\";}#sk-container-id-2 div.sk-estimator input.sk-toggleable__control:checked~label.sk-toggleable__label {background-color: #d4ebff;}#sk-container-id-2 div.sk-label input.sk-toggleable__control:checked~label.sk-toggleable__label {background-color: #d4ebff;}#sk-container-id-2 input.sk-hidden--visually {border: 0;clip: rect(1px 1px 1px 1px);clip: rect(1px, 1px, 1px, 1px);height: 1px;margin: -1px;overflow: hidden;padding: 0;position: absolute;width: 1px;}#sk-container-id-2 div.sk-estimator {font-family: monospace;background-color: #f0f8ff;border: 1px dotted black;border-radius: 0.25em;box-sizing: border-box;margin-bottom: 0.5em;}#sk-container-id-2 div.sk-estimator:hover {background-color: #d4ebff;}#sk-container-id-2 div.sk-parallel-item::after {content: \"\";width: 100%;border-bottom: 1px solid gray;flex-grow: 1;}#sk-container-id-2 div.sk-label:hover label.sk-toggleable__label {background-color: #d4ebff;}#sk-container-id-2 div.sk-serial::before {content: \"\";position: absolute;border-left: 1px solid gray;box-sizing: border-box;top: 0;bottom: 0;left: 50%;z-index: 0;}#sk-container-id-2 div.sk-serial {display: flex;flex-direction: column;align-items: center;background-color: white;padding-right: 0.2em;padding-left: 0.2em;position: relative;}#sk-container-id-2 div.sk-item {position: relative;z-index: 1;}#sk-container-id-2 div.sk-parallel {display: flex;align-items: stretch;justify-content: center;background-color: white;position: relative;}#sk-container-id-2 div.sk-item::before, #sk-container-id-2 div.sk-parallel-item::before {content: \"\";position: absolute;border-left: 1px solid gray;box-sizing: border-box;top: 0;bottom: 0;left: 50%;z-index: -1;}#sk-container-id-2 div.sk-parallel-item {display: flex;flex-direction: column;z-index: 1;position: relative;background-color: white;}#sk-container-id-2 div.sk-parallel-item:first-child::after {align-self: flex-end;width: 50%;}#sk-container-id-2 div.sk-parallel-item:last-child::after {align-self: flex-start;width: 50%;}#sk-container-id-2 div.sk-parallel-item:only-child::after {width: 0;}#sk-container-id-2 div.sk-dashed-wrapped {border: 1px dashed gray;margin: 0 0.4em 0.5em 0.4em;box-sizing: border-box;padding-bottom: 0.4em;background-color: white;}#sk-container-id-2 div.sk-label label {font-family: monospace;font-weight: bold;display: inline-block;line-height: 1.2em;}#sk-container-id-2 div.sk-label-container {text-align: center;}#sk-container-id-2 div.sk-container {/* jupyter's `normalize.less` sets `[hidden] { display: none; }` but bootstrap.min.css set `[hidden] { display: none !important; }` so we also need the `!important` here to be able to override the default hidden behavior on the sphinx rendered scikit-learn.org. See: https://github.com/scikit-learn/scikit-learn/issues/21755 */display: inline-block !important;position: relative;}#sk-container-id-2 div.sk-text-repr-fallback {display: none;}</style><div id=\"sk-container-id-2\" class=\"sk-top-container\"><div class=\"sk-text-repr-fallback\"><pre>Bert(\n  (tokenEmbedding): Embedding(30522, 384)\n  (segmentEmbedding): Embedding(2, 384)\n  (position_embedding): Embedding(128, 384)\n  (encoder): ModuleList(\n    (0-11): 12 x Encoder(\n      (multiHeadAttention): MultiheadAttention(\n        (out_proj): NonDynamicallyQuantizableLinear(in_features=384, out_features=384, bias=True)\n      )\n      (layerNorm): LayerNorm((384,), eps=1e-05, elementwise_affine=True)\n      (feedForward): FeedForward(\n        (linear1): Linear(in_features=384, out_features=3072, bias=True)\n        (linear2): Linear(in_features=3072, out_features=384, bias=True)\n        (relu): GELU(approximate=&#x27;none&#x27;)\n      )\n      (layerNorm2): LayerNorm((384,), eps=1e-05, elementwise_affine=True)\n      (drop_out): Dropout(p=0.1, inplace=False)\n    )\n  )\n  (linear): Linear(in_features=384, out_features=30522, bias=True)\n  (softmax): Softmax(dim=-1)\n  (loss_func): CrossEntropyLoss()\n)</pre><b>In a Jupyter environment, please rerun this cell to show the HTML representation or trust the notebook. <br />On GitHub, the HTML representation is unable to render, please try loading this page with nbviewer.org.</b></div><div class=\"sk-container\" hidden><div class=\"sk-item\"><div class=\"sk-estimator sk-toggleable\"><input class=\"sk-toggleable__control sk-hidden--visually\" id=\"sk-estimator-id-2\" type=\"checkbox\" checked><label for=\"sk-estimator-id-2\" class=\"sk-toggleable__label sk-toggleable__label-arrow\">Bert</label><div class=\"sk-toggleable__content\"><pre>Bert(\n  (tokenEmbedding): Embedding(30522, 384)\n  (segmentEmbedding): Embedding(2, 384)\n  (position_embedding): Embedding(128, 384)\n  (encoder): ModuleList(\n    (0-11): 12 x Encoder(\n      (multiHeadAttention): MultiheadAttention(\n        (out_proj): NonDynamicallyQuantizableLinear(in_features=384, out_features=384, bias=True)\n      )\n      (layerNorm): LayerNorm((384,), eps=1e-05, elementwise_affine=True)\n      (feedForward): FeedForward(\n        (linear1): Linear(in_features=384, out_features=3072, bias=True)\n        (linear2): Linear(in_features=3072, out_features=384, bias=True)\n        (relu): GELU(approximate=&#x27;none&#x27;)\n      )\n      (layerNorm2): LayerNorm((384,), eps=1e-05, elementwise_affine=True)\n      (drop_out): Dropout(p=0.1, inplace=False)\n    )\n  )\n  (linear): Linear(in_features=384, out_features=30522, bias=True)\n  (softmax): Softmax(dim=-1)\n  (loss_func): CrossEntropyLoss()\n)</pre></div></div></div></div></div>"
     },
     "execution_count": 6,
     "metadata": {},
     "output_type": "execute_result"
    }
   ],
   "source": [
    "import json\n",
    "\n",
    "from tokenizers.implementations import BertWordPieceTokenizer\n",
    "from Bert import Bert\n",
    "from layers import Train\n",
    "import torch\n",
    "from torch.nn import Linear\n",
    "device = torch.device(\"cuda:0\" if torch.cuda.is_available() else \"cpu\")\n",
    "\n",
    "_tokenizer = BertWordPieceTokenizer(\"../custom/vocab.txt\")\n",
    "_embedding_dim = 384\n",
    "_hidden_size = 3072\n",
    "_num_head = 12\n",
    "_out_dim = 512\n",
    "max_epoch = 17\n",
    "batch = 140\n",
    "_num_layers = 12\n",
    "vocab_size = _tokenizer.get_vocab_size()\n",
    "bert = Bert(_embedding_dim, _hidden_size, _num_head, 128, _num_layers, _tokenizer)\n",
    "bert.load_state_dict(torch.load(\"../bert_impl_weights/down_stream_bert_emo.pth\"))\n",
    "bert.eval()"
   ]
  },
  {
   "cell_type": "code",
   "execution_count": 7,
   "outputs": [],
   "source": [
    "from torch.nn.utils.rnn import pad_sequence\n",
    "\n",
    "with open(\"../bert_impl_data/emo_class.json\", \"r\", encoding=\"utf-8\") as fp:\n",
    "    label = json.load(fp)\n",
    "    id_label = {}\n",
    "    for key, val in label.items():\n",
    "        id_label[val] = key"
   ],
   "metadata": {
    "collapsed": false,
    "ExecuteTime": {
     "end_time": "2023-06-24T04:41:44.746202200Z",
     "start_time": "2023-06-24T04:41:44.731199500Z"
    }
   }
  },
  {
   "cell_type": "code",
   "execution_count": 8,
   "outputs": [
    {
     "data": {
      "text/plain": "tensor([[    2,  2399, 10133,  ...,     0,     0,     0],\n        [    2,  2399,  5013,  ...,     0,     0,     0],\n        [    2,    50,  3336,  ...,     0,     0,     0],\n        ...,\n        [    2,    50,  5271,  ...,     0,     0,     0],\n        [    2,  2399, 10133,  ...,     0,     0,     0],\n        [    2,    50,  5271,  ...,     0,     0,     0]], device='cuda:0')"
     },
     "execution_count": 8,
     "metadata": {},
     "output_type": "execute_result"
    }
   ],
   "source": [
    "with open(\"../bert_impl_data/emo_test.txt\", \"r\", encoding=\"utf-8\") as fp:\n",
    "    data = fp.readlines()\n",
    "    sentence_val = []\n",
    "    labels_val = []\n",
    "    max_len = 0\n",
    "    for idx, i in enumerate(data):\n",
    "        datas = data[idx].split(';')\n",
    "        l = datas[1].replace('\\n', '')\n",
    "        sentence_val.append(datas[0])\n",
    "        labels_val.append(l)\n",
    "    for idx, i in enumerate(labels_val):\n",
    "        labels_val[idx] = label[labels_val[idx]]\n",
    "    for idx, sent in enumerate(sentence_val):\n",
    "        sentence_val[idx] = torch.tensor(_tokenizer.encode(sent).ids, dtype=torch.long, device=device)\n",
    "        if len(sentence_val[idx]) >= max_len:\n",
    "            max_len = len(sentence_val[idx])\n",
    "    sentence_val = pad_sequence(sentence_val, batch_first=True)\n",
    "    labels_val = torch.tensor(labels_val)\n",
    "sentence_val"
   ],
   "metadata": {
    "collapsed": false,
    "ExecuteTime": {
     "end_time": "2023-06-24T04:41:44.947747300Z",
     "start_time": "2023-06-24T04:41:44.746702200Z"
    }
   }
  },
  {
   "cell_type": "code",
   "execution_count": 9,
   "outputs": [],
   "source": [
    "with torch.no_grad():\n",
    "    layers = Linear(384, len(label), device=bert.device)\n",
    "    layers.load_state_dict(torch.load(\"../bert_impl_weights/down_stream_bert_emo_layer.pth\"))\n",
    "    questions = sentence_val[:10]\n",
    "    score = bert.forward(questions, (questions != 0).to(device=device))\n",
    "    score = layers(score)[:, 0, :]\n",
    "    predict = torch.nn.Softmax(dim=-1)(score)\n",
    "    predict = torch.argmax(predict, dim=-1)\n",
    "    ls = questions.tolist()\n",
    "    predict = predict.tolist()\n",
    "    for idx, i in enumerate(predict):\n",
    "        predict[idx] = id_label[i]\n",
    "    for idx, i in enumerate(ls):\n",
    "        ls[idx] = _tokenizer.decode(i) + f\". [predict: {predict[idx]}]\""
   ],
   "metadata": {
    "collapsed": false,
    "ExecuteTime": {
     "end_time": "2023-06-24T04:41:44.977251800Z",
     "start_time": "2023-06-24T04:41:44.948747300Z"
    }
   }
  },
  {
   "cell_type": "code",
   "execution_count": 10,
   "outputs": [
    {
     "data": {
      "text/plain": "['im feeling rather rotten so im not very ambitious right now. [predict: sadness]',\n 'im updating my blog because i feel shitty. [predict: sadness]',\n 'i never make her separate from me because i don t ever want her to feel like i m ashamed with her. [predict: sadness]',\n 'i left with my bouquet of red and yellow tulips under my arm feeling slightly more optimistic than when i arrived. [predict: joy]',\n 'i was feeling a little vain when i did this one. [predict: sadness]',\n \"i cant walk into a shop anywhere where i don't feel uncomfortable. [predict: fear]\",\n 'i felt anger when at the end of a telephone call. [predict: fear]',\n 'i explain why i clung to a relationship with a boy who was in many ways immature and uncommitted despite the excitement i should have been feeling for getting accepted into the masters program at the university of virginia. [predict: love]',\n 'i like to have the same breathless feeling as a reader eager to see what will happen next. [predict: joy]',\n 'i jest i feel grumpy tired and pre menstrual which i probably am but then again its only been a week and im about as fit as a walrus on vacation for the summer. [predict: anger]']"
     },
     "execution_count": 10,
     "metadata": {},
     "output_type": "execute_result"
    }
   ],
   "source": [
    "ls"
   ],
   "metadata": {
    "collapsed": false,
    "ExecuteTime": {
     "end_time": "2023-06-24T04:41:44.984252500Z",
     "start_time": "2023-06-24T04:41:44.966253300Z"
    }
   }
  }
 ],
 "metadata": {
  "kernelspec": {
   "display_name": "Python 3",
   "language": "python",
   "name": "python3"
  },
  "language_info": {
   "codemirror_mode": {
    "name": "ipython",
    "version": 2
   },
   "file_extension": ".py",
   "mimetype": "text/x-python",
   "name": "python",
   "nbconvert_exporter": "python",
   "pygments_lexer": "ipython2",
   "version": "2.7.6"
  }
 },
 "nbformat": 4,
 "nbformat_minor": 0
}
