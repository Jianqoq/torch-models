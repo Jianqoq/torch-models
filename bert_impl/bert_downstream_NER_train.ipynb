{
 "cells": [
  {
   "cell_type": "code",
   "execution_count": 3,
   "metadata": {
    "collapsed": true,
    "ExecuteTime": {
     "end_time": "2023-10-29T16:52:42.252110200Z",
     "start_time": "2023-10-29T16:52:42.238547200Z"
    }
   },
   "outputs": [],
   "source": [
    "import json\n",
    "import torch\n",
    "import pandas as pd\n",
    "from tokenizers.implementations import BertWordPieceTokenizer\n",
    "from Bert import Bert\n",
    "from torch.nn.utils.rnn import pad_sequence"
   ]
  },
  {
   "cell_type": "code",
   "execution_count": 4,
   "outputs": [],
   "source": [
    "df = pd.read_csv('../bert_impl_data/ner_datasetreference.csv', encoding='Windows-1252')\n",
    "\n",
    "# 查看数据的前几行\n",
    "df.fillna(method='ffill', inplace=True)\n",
    "groups = df.groupby('Sentence #')\n",
    "sentence = []\n",
    "labels = []\n",
    "Class = set([])\n",
    "for _, i in groups:\n",
    "    sentence.append(' '.join(i['Word']))\n",
    "    labels.append(' '.join(i['Tag']))\n",
    "    for k in i['Tag']:\n",
    "        Class.add(k)\n",
    "Class_new = {i: idx for idx, i in enumerate(Class)}\n",
    "with open('../bert_impl_data/ner_class.json', 'w') as fp:\n",
    "    id_class = {val: key for key, val in Class_new.items()}\n",
    "    fp.write(json.dumps({'word_id': Class_new, 'id_word': id_class}, indent=4))\n"
   ],
   "metadata": {
    "collapsed": false,
    "ExecuteTime": {
     "end_time": "2023-10-29T16:52:44.887461500Z",
     "start_time": "2023-10-29T16:52:42.246611100Z"
    }
   }
  },
  {
   "cell_type": "code",
   "execution_count": 5,
   "outputs": [
    {
     "data": {
      "text/plain": "Bert(\n  (tokenEmbedding): Embedding(30522, 384)\n  (segmentEmbedding): Embedding(2, 384)\n  (position_embedding): Embedding(128, 384)\n  (encoder): ModuleList(\n    (0-11): 12 x Encoder(\n      (multiHeadAttention): MultiheadAttention(\n        (out_proj): NonDynamicallyQuantizableLinear(in_features=384, out_features=384, bias=True)\n      )\n      (layerNorm): LayerNorm((384,), eps=1e-05, elementwise_affine=True)\n      (feedForward): FeedForward(\n        (linear1): Linear(in_features=384, out_features=3072, bias=True)\n        (linear2): Linear(in_features=3072, out_features=384, bias=True)\n        (relu): GELU(approximate='none')\n      )\n      (layerNorm2): LayerNorm((384,), eps=1e-05, elementwise_affine=True)\n      (drop_out): Dropout(p=0.1, inplace=False)\n    )\n  )\n  (linear): Linear(in_features=384, out_features=30522, bias=True)\n  (softmax): Softmax(dim=-1)\n  (loss_func): CrossEntropyLoss()\n)",
      "text/html": "<style>#sk-container-id-1 {color: black;background-color: white;}#sk-container-id-1 pre{padding: 0;}#sk-container-id-1 div.sk-toggleable {background-color: white;}#sk-container-id-1 label.sk-toggleable__label {cursor: pointer;display: block;width: 100%;margin-bottom: 0;padding: 0.3em;box-sizing: border-box;text-align: center;}#sk-container-id-1 label.sk-toggleable__label-arrow:before {content: \"▸\";float: left;margin-right: 0.25em;color: #696969;}#sk-container-id-1 label.sk-toggleable__label-arrow:hover:before {color: black;}#sk-container-id-1 div.sk-estimator:hover label.sk-toggleable__label-arrow:before {color: black;}#sk-container-id-1 div.sk-toggleable__content {max-height: 0;max-width: 0;overflow: hidden;text-align: left;background-color: #f0f8ff;}#sk-container-id-1 div.sk-toggleable__content pre {margin: 0.2em;color: black;border-radius: 0.25em;background-color: #f0f8ff;}#sk-container-id-1 input.sk-toggleable__control:checked~div.sk-toggleable__content {max-height: 200px;max-width: 100%;overflow: auto;}#sk-container-id-1 input.sk-toggleable__control:checked~label.sk-toggleable__label-arrow:before {content: \"▾\";}#sk-container-id-1 div.sk-estimator input.sk-toggleable__control:checked~label.sk-toggleable__label {background-color: #d4ebff;}#sk-container-id-1 div.sk-label input.sk-toggleable__control:checked~label.sk-toggleable__label {background-color: #d4ebff;}#sk-container-id-1 input.sk-hidden--visually {border: 0;clip: rect(1px 1px 1px 1px);clip: rect(1px, 1px, 1px, 1px);height: 1px;margin: -1px;overflow: hidden;padding: 0;position: absolute;width: 1px;}#sk-container-id-1 div.sk-estimator {font-family: monospace;background-color: #f0f8ff;border: 1px dotted black;border-radius: 0.25em;box-sizing: border-box;margin-bottom: 0.5em;}#sk-container-id-1 div.sk-estimator:hover {background-color: #d4ebff;}#sk-container-id-1 div.sk-parallel-item::after {content: \"\";width: 100%;border-bottom: 1px solid gray;flex-grow: 1;}#sk-container-id-1 div.sk-label:hover label.sk-toggleable__label {background-color: #d4ebff;}#sk-container-id-1 div.sk-serial::before {content: \"\";position: absolute;border-left: 1px solid gray;box-sizing: border-box;top: 0;bottom: 0;left: 50%;z-index: 0;}#sk-container-id-1 div.sk-serial {display: flex;flex-direction: column;align-items: center;background-color: white;padding-right: 0.2em;padding-left: 0.2em;position: relative;}#sk-container-id-1 div.sk-item {position: relative;z-index: 1;}#sk-container-id-1 div.sk-parallel {display: flex;align-items: stretch;justify-content: center;background-color: white;position: relative;}#sk-container-id-1 div.sk-item::before, #sk-container-id-1 div.sk-parallel-item::before {content: \"\";position: absolute;border-left: 1px solid gray;box-sizing: border-box;top: 0;bottom: 0;left: 50%;z-index: -1;}#sk-container-id-1 div.sk-parallel-item {display: flex;flex-direction: column;z-index: 1;position: relative;background-color: white;}#sk-container-id-1 div.sk-parallel-item:first-child::after {align-self: flex-end;width: 50%;}#sk-container-id-1 div.sk-parallel-item:last-child::after {align-self: flex-start;width: 50%;}#sk-container-id-1 div.sk-parallel-item:only-child::after {width: 0;}#sk-container-id-1 div.sk-dashed-wrapped {border: 1px dashed gray;margin: 0 0.4em 0.5em 0.4em;box-sizing: border-box;padding-bottom: 0.4em;background-color: white;}#sk-container-id-1 div.sk-label label {font-family: monospace;font-weight: bold;display: inline-block;line-height: 1.2em;}#sk-container-id-1 div.sk-label-container {text-align: center;}#sk-container-id-1 div.sk-container {/* jupyter's `normalize.less` sets `[hidden] { display: none; }` but bootstrap.min.css set `[hidden] { display: none !important; }` so we also need the `!important` here to be able to override the default hidden behavior on the sphinx rendered scikit-learn.org. See: https://github.com/scikit-learn/scikit-learn/issues/21755 */display: inline-block !important;position: relative;}#sk-container-id-1 div.sk-text-repr-fallback {display: none;}</style><div id=\"sk-container-id-1\" class=\"sk-top-container\"><div class=\"sk-text-repr-fallback\"><pre>Bert(\n  (tokenEmbedding): Embedding(30522, 384)\n  (segmentEmbedding): Embedding(2, 384)\n  (position_embedding): Embedding(128, 384)\n  (encoder): ModuleList(\n    (0-11): 12 x Encoder(\n      (multiHeadAttention): MultiheadAttention(\n        (out_proj): NonDynamicallyQuantizableLinear(in_features=384, out_features=384, bias=True)\n      )\n      (layerNorm): LayerNorm((384,), eps=1e-05, elementwise_affine=True)\n      (feedForward): FeedForward(\n        (linear1): Linear(in_features=384, out_features=3072, bias=True)\n        (linear2): Linear(in_features=3072, out_features=384, bias=True)\n        (relu): GELU(approximate=&#x27;none&#x27;)\n      )\n      (layerNorm2): LayerNorm((384,), eps=1e-05, elementwise_affine=True)\n      (drop_out): Dropout(p=0.1, inplace=False)\n    )\n  )\n  (linear): Linear(in_features=384, out_features=30522, bias=True)\n  (softmax): Softmax(dim=-1)\n  (loss_func): CrossEntropyLoss()\n)</pre><b>In a Jupyter environment, please rerun this cell to show the HTML representation or trust the notebook. <br />On GitHub, the HTML representation is unable to render, please try loading this page with nbviewer.org.</b></div><div class=\"sk-container\" hidden><div class=\"sk-item\"><div class=\"sk-estimator sk-toggleable\"><input class=\"sk-toggleable__control sk-hidden--visually\" id=\"sk-estimator-id-1\" type=\"checkbox\" checked><label for=\"sk-estimator-id-1\" class=\"sk-toggleable__label sk-toggleable__label-arrow\">Bert</label><div class=\"sk-toggleable__content\"><pre>Bert(\n  (tokenEmbedding): Embedding(30522, 384)\n  (segmentEmbedding): Embedding(2, 384)\n  (position_embedding): Embedding(128, 384)\n  (encoder): ModuleList(\n    (0-11): 12 x Encoder(\n      (multiHeadAttention): MultiheadAttention(\n        (out_proj): NonDynamicallyQuantizableLinear(in_features=384, out_features=384, bias=True)\n      )\n      (layerNorm): LayerNorm((384,), eps=1e-05, elementwise_affine=True)\n      (feedForward): FeedForward(\n        (linear1): Linear(in_features=384, out_features=3072, bias=True)\n        (linear2): Linear(in_features=3072, out_features=384, bias=True)\n        (relu): GELU(approximate=&#x27;none&#x27;)\n      )\n      (layerNorm2): LayerNorm((384,), eps=1e-05, elementwise_affine=True)\n      (drop_out): Dropout(p=0.1, inplace=False)\n    )\n  )\n  (linear): Linear(in_features=384, out_features=30522, bias=True)\n  (softmax): Softmax(dim=-1)\n  (loss_func): CrossEntropyLoss()\n)</pre></div></div></div></div></div>"
     },
     "execution_count": 5,
     "metadata": {},
     "output_type": "execute_result"
    }
   ],
   "source": [
    "device = torch.device(\"cuda:0\" if torch.cuda.is_available() else \"cpu\")\n",
    "\n",
    "_tokenizer = BertWordPieceTokenizer(\"../custom/vocab.txt\")\n",
    "_embedding_dim = 384\n",
    "_hidden_size = 3072\n",
    "_num_head = 12\n",
    "_out_dim = 512\n",
    "max_epoch = 20\n",
    "batch = 140\n",
    "_num_layers = 12\n",
    "vocab_size = _tokenizer.get_vocab_size()\n",
    "bert = Bert(_embedding_dim, _hidden_size, _num_head, 128, _num_layers, _tokenizer)\n",
    "bert.load_state_dict(torch.load(\"../bert_impl_weights/bert.pth\"))\n",
    "bert.train()"
   ],
   "metadata": {
    "collapsed": false,
    "ExecuteTime": {
     "end_time": "2023-10-29T16:52:45.246315Z",
     "start_time": "2023-10-29T16:52:44.888961Z"
    }
   }
  },
  {
   "cell_type": "code",
   "execution_count": 6,
   "outputs": [],
   "source": [
    "max_len = 0\n",
    "new_sentence = []\n",
    "new_labels = []\n",
    "for idx, i in enumerate(sentence):\n",
    "    if len(sentence[idx]) <= 127:\n",
    "        new_sentence.append(torch.tensor(_tokenizer.encode(i).ids))\n",
    "        cache = labels[idx].split(' ')\n",
    "        new_cache = [Class_new[k] for k in cache]\n",
    "        new_cache.insert(0, -1)\n",
    "        new_cache.append(-1)\n",
    "        new_labels.append(torch.tensor(new_cache))\n",
    "        if len(sentence[idx]) > max_len:\n",
    "            max_len = len(sentence[idx])\n",
    "new_sentence.append(torch.tensor([0] * (max_len + 1)))\n",
    "new_labels.append(torch.tensor([0] * (max_len + 1)))\n",
    "new_labels = pad_sequence(new_labels, batch_first=True, padding_value=-1)[:-1]\n",
    "new_sentence = pad_sequence(new_sentence, batch_first=True)[:-1]"
   ],
   "metadata": {
    "collapsed": false,
    "ExecuteTime": {
     "end_time": "2023-10-29T16:52:46.892869400Z",
     "start_time": "2023-10-29T16:52:45.277350600Z"
    }
   }
  },
  {
   "cell_type": "code",
   "execution_count": 7,
   "outputs": [
    {
     "name": "stdout",
     "output_type": "stream",
     "text": [
      "copy to run: tensorboard --logdir=C:\\Users\\123\\PycharmProjects\\torch-models\\bert_impl\\Bert_down_stream_ner --port=6006 --reload_interval=30\n",
      " ▏Epoch: │████████████████████│ 100.00% ▏Iter: │████████████████████│ 100.00% ▏Time: 5min57s ▏loss: 0.03161 "
     ]
    }
   ],
   "source": [
    "from layers import Train\n",
    "from torch.nn import Linear\n",
    "import time\n",
    "\n",
    "\n",
    "class Emo_trainer(Train):\n",
    "    def __init__(self, model, optimizer):\n",
    "        super().__init__(model, optimizer)\n",
    "\n",
    "    def down_stream(self, batch_size, max_epoch, layer: torch.nn.Module, log=True, log_dir=None, Tensorboard_reloadInterval=30,\n",
    "                    log_file_name='', monitor=True, pick_params=False):\n",
    "        from torch.cuda.amp import GradScaler, autocast\n",
    "        begin = time.time()\n",
    "        max_iter = 0\n",
    "        loss = 0\n",
    "        scaler = GradScaler()\n",
    "        if log:\n",
    "            self.open_tensorboard(log_dir, Tensorboard_reloadInterval, f\"({log_file_name})\")\n",
    "        COUNT = 0\n",
    "        loss_func = torch.nn.CrossEntropyLoss(ignore_index=-1)\n",
    "        path = None\n",
    "        min_loss = 20\n",
    "        best_loss = 20\n",
    "\n",
    "        def run(train):\n",
    "            try:\n",
    "                score = self._model.forward(train, mask.to(device=device))\n",
    "                score = layer(score).permute(0, 2, 1)\n",
    "                score = loss_func.forward(score, answer)\n",
    "                return score\n",
    "            except Exception as e:\n",
    "                raise e\n",
    "\n",
    "        train_question = new_sentence[:int(len(new_sentence) * 0.8)].to(device=device)\n",
    "        test_question = new_sentence[int(len(new_sentence) * 0.8):].to(device=device)\n",
    "        train_answer = new_labels[:int(len(new_labels) * 0.8)].to(device=device)\n",
    "        test_answer = new_labels[int(len(new_labels) * 0.8):].to(device=device)\n",
    "        for epoch in range(max_epoch):\n",
    "            iters = 0\n",
    "            max_iter = len(train_question) // batch_size\n",
    "            average_loss = 0\n",
    "            for i in range(max_iter):\n",
    "                start = i * batch_size + 1\n",
    "                self._optimizer.zero_grad()\n",
    "                with autocast():\n",
    "                    batch_question = train_question[start:(i + 1) * batch_size + 1].to(device=device)\n",
    "                    answer = train_answer[start:(i + 1) * batch_size + 1].to(device=device)\n",
    "                    mask = batch_question != 0\n",
    "                    loss = run(batch_question)\n",
    "                scaler.scale(loss).backward()\n",
    "                scaler.step(self._optimizer)\n",
    "                scaler.update()\n",
    "                loss = loss.detach_().item()\n",
    "                average_loss += loss\n",
    "\n",
    "                self.print_result((epoch, max_epoch), (iters, max_iter), loss, begin=begin, timing=True)\n",
    "                iters += 1\n",
    "            if self.writer:\n",
    "                COUNT += 1\n",
    "                try:\n",
    "                    if average_loss / max_iter < min_loss:\n",
    "                        min_loss = average_loss\n",
    "                        try:\n",
    "                            torch.save(layer.state_dict(), '../bert_impl_weights/down_stream_bert_ner_layer.pth')\n",
    "                            torch.save(self._model.state_dict(), '../bert_impl_weights/down_stream_bert_ner.pth')\n",
    "                        except Exception as e:\n",
    "                            print(e)\n",
    "                except ZeroDivisionError:\n",
    "                    print(average_loss, max_iter, path, len(train_question), batch_size)\n",
    "                correctness = self._model.down_stream(test_question, test_answer, batch_size, layer)\n",
    "                self.writer.add_scalar(\"loss\", average_loss / max_iter, COUNT)\n",
    "                self.writer.add_scalar(\"correctness\", correctness, COUNT)\n",
    "            self.print_result((epoch, max_epoch), (max_iter, max_iter), loss, begin=begin, timing=True)\n",
    "            try:\n",
    "                if best_loss >= average_loss:\n",
    "                    torch.save(layer.state_dict(), '../bert_impl_weights/down_stream_bert_ner_layer.pth')\n",
    "                    torch.save(self._model.state_dict(), '../bert_impl_weights/down_stream_bert_ner.pth')\n",
    "                    best_loss = average_loss\n",
    "                torch.save(layer.state_dict(), '../bert_impl_weights/down_stream_bert_ner_layer.pth')\n",
    "                torch.save(self._model.state_dict(), '../bert_impl_weights/down_stream_bert_ner.pth')\n",
    "            except Exception as e:\n",
    "                print(e)\n",
    "        self.print_result((max_epoch, max_epoch), (max_iter, max_iter), loss, begin=begin, timing=True)\n",
    "        if self.writer is not None and self.tensorboard_process is not None:\n",
    "            self.writer.close()\n",
    "            self.tensorboard_process.terminate()\n",
    "layers = Linear(384, len(Class), device=bert.device)\n",
    "optimizer = torch.optim.Adam(list(layers.parameters()) + list(bert.parameters()), lr=1e-4)\n",
    "trainer = Emo_trainer(bert, optimizer)\n",
    "trainer.add_bar('Epoch', 'Iter')\n",
    "trainer.add_metrics('loss', float)\n",
    "trainer.down_stream(batch, max_epoch, layers, log_dir=\"Bert_down_stream_ner\", log=True,\n",
    "                    log_file_name=\"Bert_down_stream_ner\", monitor=False)\n"
   ],
   "metadata": {
    "collapsed": false,
    "ExecuteTime": {
     "end_time": "2023-10-29T16:58:45.206951100Z",
     "start_time": "2023-10-29T16:52:46.902394900Z"
    }
   }
  }
 ],
 "metadata": {
  "kernelspec": {
   "display_name": "Python 3",
   "language": "python",
   "name": "python3"
  },
  "language_info": {
   "codemirror_mode": {
    "name": "ipython",
    "version": 2
   },
   "file_extension": ".py",
   "mimetype": "text/x-python",
   "name": "python",
   "nbconvert_exporter": "python",
   "pygments_lexer": "ipython2",
   "version": "2.7.6"
  }
 },
 "nbformat": 4,
 "nbformat_minor": 0
}
