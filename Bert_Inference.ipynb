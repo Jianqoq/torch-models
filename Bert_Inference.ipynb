{
 "cells": [
  {
   "cell_type": "code",
   "execution_count": 7,
   "metadata": {
    "collapsed": true,
    "ExecuteTime": {
     "end_time": "2023-06-24T00:14:33.933079800Z",
     "start_time": "2023-06-24T00:14:33.915073800Z"
    }
   },
   "outputs": [],
   "source": [
    "import sys\n",
    "\n",
    "from Bert import Bert\n",
    "import torch\n",
    "from tokenizers.implementations import BertWordPieceTokenizer"
   ]
  },
  {
   "cell_type": "code",
   "execution_count": 8,
   "metadata": {
    "ExecuteTime": {
     "end_time": "2023-06-24T00:14:33.941079600Z",
     "start_time": "2023-06-24T00:14:33.925581400Z"
    }
   },
   "outputs": [],
   "source": [
    "_embedding_dim = 384\n",
    "_hidden_size = 3072\n",
    "_num_head = 12\n",
    "_num_layers = 12\n",
    "_tokenizer = BertWordPieceTokenizer(\"custom/vocab.txt\")\n"
   ]
  },
  {
   "cell_type": "code",
   "execution_count": 9,
   "metadata": {
    "ExecuteTime": {
     "end_time": "2023-06-24T00:14:34.109104900Z",
     "start_time": "2023-06-24T00:14:33.939581200Z"
    }
   },
   "outputs": [
    {
     "data": {
      "text/plain": "<All keys matched successfully>"
     },
     "execution_count": 9,
     "metadata": {},
     "output_type": "execute_result"
    }
   ],
   "source": [
    "bert = Bert(_embedding_dim, _hidden_size, _num_head, 128, _num_layers, _tokenizer, device='cuda:0')\n",
    "bert.eval()\n",
    "bert.load_state_dict(torch.load(\"bert.pth\"))"
   ]
  },
  {
   "cell_type": "code",
   "execution_count": 10,
   "metadata": {
    "ExecuteTime": {
     "end_time": "2023-06-24T00:14:34.169626Z",
     "start_time": "2023-06-24T00:14:34.109604300Z"
    }
   },
   "outputs": [
    {
     "data": {
      "text/plain": "{0: 'convinced', 1: 'wants', 2: 'win'}"
     },
     "execution_count": 10,
     "metadata": {},
     "output_type": "execute_result"
    }
   ],
   "source": [
    "begin = torch.cuda.memory_allocated()\n",
    "bert.predict_mask('He is [MASK] that he [MASK] the team to [MASK].')"
   ]
  },
  {
   "cell_type": "markdown",
   "metadata": {},
   "source": [
    "<p style=\"line-height:1.2;\">\n",
    "原句：He is glad that he helped the team to win.<br>\n",
    "翻译：他很高兴他帮助球队赢了<br>\n",
    "预测：他确信他希望球队获胜<br>\n",
    "</p>"
   ]
  },
  {
   "cell_type": "code",
   "execution_count": 11,
   "metadata": {
    "ExecuteTime": {
     "end_time": "2023-06-24T00:14:34.176126Z",
     "start_time": "2023-06-24T00:14:34.142126400Z"
    }
   },
   "outputs": [
    {
     "data": {
      "text/plain": "{0: 'enough', 1: 'my', 2: 'new', 3: 'life'}"
     },
     "execution_count": 11,
     "metadata": {},
     "output_type": "execute_result"
    }
   ],
   "source": [
    "bert.predict_mask('May there be [MASK] clouds in [MASK] life to make a [MASK] [MASK].')"
   ]
  },
  {
   "cell_type": "markdown",
   "metadata": {},
   "source": [
    "<p style=\"line-height:1.2;\">\n",
    "原句：May there be enough clouds in your life to make a beautiful sunset.<br>\n",
    "翻译：愿你的生命中有足够的云翳，来造成一个美丽的黄昏<br>\n",
    "预测：愿我的生命中有足够的云翳来创造新的生活<br>\n",
    "</p>"
   ]
  },
  {
   "cell_type": "code",
   "execution_count": 12,
   "metadata": {
    "ExecuteTime": {
     "end_time": "2023-06-24T00:14:34.231372200Z",
     "start_time": "2023-06-24T00:14:34.172626500Z"
    }
   },
   "outputs": [
    {
     "data": {
      "text/plain": "{0: 'only', 1: 'them', 2: 'can'}"
     },
     "execution_count": 12,
     "metadata": {},
     "output_type": "execute_result"
    }
   ],
   "source": [
    "bert.predict_mask('The [MASK] way to miss [MASK] is to be sitting right beside them knowing you [MASK] have them.')"
   ]
  },
  {
   "cell_type": "markdown",
   "metadata": {},
   "source": [
    "<p style=\"line-height:1.2;\">\n",
    "原句：The worst way to miss someone is to be sitting right beside them knowing you can’t have them<br>\n",
    "翻译：失去某人，最糟糕的莫过于，他近在身旁，却犹如远在天边<br>\n",
    "预测：想念他们的唯一方式，就是坐在他们身旁，知道你可以拥有他们<br>\n",
    "</p>"
   ]
  }
 ],
 "metadata": {
  "kernelspec": {
   "display_name": "Python 3 (ipykernel)",
   "language": "python",
   "name": "python3"
  },
  "language_info": {
   "codemirror_mode": {
    "name": "ipython",
    "version": 3
   },
   "file_extension": ".py",
   "mimetype": "text/x-python",
   "name": "python",
   "nbconvert_exporter": "python",
   "pygments_lexer": "ipython3",
   "version": "3.10.9"
  },
  "varInspector": {
   "cols": {
    "lenName": 16,
    "lenType": 16,
    "lenVar": 40
   },
   "kernels_config": {
    "python": {
     "delete_cmd_postfix": "",
     "delete_cmd_prefix": "del ",
     "library": "var_list.py",
     "varRefreshCmd": "print(var_dic_list())"
    },
    "r": {
     "delete_cmd_postfix": ") ",
     "delete_cmd_prefix": "rm(",
     "library": "var_list.r",
     "varRefreshCmd": "cat(var_dic_list()) "
    }
   },
   "types_to_exclude": [
    "module",
    "function",
    "builtin_function_or_method",
    "instance",
    "_Feature"
   ],
   "window_display": false
  }
 },
 "nbformat": 4,
 "nbformat_minor": 1
}
