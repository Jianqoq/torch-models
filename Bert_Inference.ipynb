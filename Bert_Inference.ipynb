{
 "cells": [
  {
   "cell_type": "code",
   "execution_count": 1,
   "metadata": {
    "collapsed": true,
    "ExecuteTime": {
     "end_time": "2023-06-19T23:02:22.113511500Z",
     "start_time": "2023-06-19T23:02:19.322864200Z"
    }
   },
   "outputs": [],
   "source": [
    "from Bert import Bert\n",
    "import torch\n",
    "from tokenizers.implementations import BertWordPieceTokenizer"
   ]
  },
  {
   "cell_type": "code",
   "execution_count": 2,
   "metadata": {
    "ExecuteTime": {
     "end_time": "2023-06-19T23:02:22.128288900Z",
     "start_time": "2023-06-19T23:02:22.114012Z"
    }
   },
   "outputs": [],
   "source": [
    "_embedding_dim = 384\n",
    "_hidden_size = 3072\n",
    "_num_head = 12\n",
    "_num_layers = 12\n",
    "_tokenizer = BertWordPieceTokenizer(\"custom/vocab.txt\")"
   ]
  },
  {
   "cell_type": "code",
   "execution_count": 8,
   "metadata": {
    "ExecuteTime": {
     "end_time": "2023-06-19T23:20:12.322860900Z",
     "start_time": "2023-06-19T23:20:10.690257600Z"
    }
   },
   "outputs": [
    {
     "data": {
      "text/plain": "<All keys matched successfully>"
     },
     "execution_count": 8,
     "metadata": {},
     "output_type": "execute_result"
    }
   ],
   "source": [
    "bert = Bert(_embedding_dim, _hidden_size, _num_head, 128, _num_layers, _tokenizer, device='cpu')"
   ]
  },
  {
   "cell_type": "code",
   "execution_count": 9,
   "metadata": {
    "ExecuteTime": {
     "end_time": "2023-06-19T23:20:13.910770300Z",
     "start_time": "2023-06-19T23:20:13.792051700Z"
    }
   },
   "outputs": [
    {
     "data": {
      "text/plain": "{0: 'convinced', 1: 'wants', 2: 'win'}"
     },
     "execution_count": 9,
     "metadata": {},
     "output_type": "execute_result"
    }
   ],
   "source": [
    "bert.predict_mask('He is [MASK] that he [MASK] the team to [MASK].')"
   ]
  },
  {
   "cell_type": "markdown",
   "metadata": {},
   "source": [
    "<p style=\"line-height:1.2;\">\n",
    "原句：He is glad that he helped the team to win.<br>\n",
    "翻译：他很高兴他帮助球队赢了<br>\n",
    "预测：他确信他希望球队获胜<br>\n",
    "</p>"
   ]
  },
  {
   "cell_type": "code",
   "execution_count": 10,
   "metadata": {
    "ExecuteTime": {
     "end_time": "2023-06-19T23:20:16.486166800Z",
     "start_time": "2023-06-19T23:20:16.393367900Z"
    }
   },
   "outputs": [
    {
     "data": {
      "text/plain": "{0: 'enough', 1: 'my', 2: 'new', 3: 'life'}"
     },
     "execution_count": 10,
     "metadata": {},
     "output_type": "execute_result"
    }
   ],
   "source": [
    "bert.predict_mask('May there be [MASK] clouds in [MASK] life to make a [MASK] [MASK].')"
   ]
  },
  {
   "cell_type": "markdown",
   "metadata": {},
   "source": [
    "<p style=\"line-height:1.2;\">\n",
    "原句：May there be enough clouds in your life to make a beautiful sunset.<br>\n",
    "翻译：愿你的生命中有足够的云翳，来造成一个美丽的黄昏<br>\n",
    "预测：愿我的生命中有足够的云翳来创造新的生活<br>\n",
    "</p>"
   ]
  },
  {
   "cell_type": "code",
   "execution_count": 11,
   "metadata": {
    "ExecuteTime": {
     "end_time": "2023-06-19T23:20:17.040864500Z",
     "start_time": "2023-06-19T23:20:16.944183800Z"
    }
   },
   "outputs": [
    {
     "data": {
      "text/plain": "{0: 'only', 1: 'them', 2: 'can'}"
     },
     "execution_count": 11,
     "metadata": {},
     "output_type": "execute_result"
    }
   ],
   "source": [
    "bert.predict_mask('The [MASK] way to miss [MASK] is to be sitting right beside them knowing you [MASK] have them.')"
   ]
  },
  {
   "cell_type": "markdown",
   "metadata": {},
   "source": [
    "<p style=\"line-height:1.2;\">\n",
    "原句：The worst way to miss someone is to be sitting right beside them knowing you can’t have them<br>\n",
    "翻译：失去某人，最糟糕的莫过于，他近在身旁，却犹如远在天边<br>\n",
    "预测：想念他们的唯一方式，就是坐在他们身旁，知道你可以拥有他们<br>\n",
    "</p>"
   ]
  },
  {
   "cell_type": "code",
   "execution_count": 13,
   "outputs": [],
   "source": [
    "import netron\n",
    "import torch.onnx"
   ],
   "metadata": {
    "collapsed": false,
    "ExecuteTime": {
     "end_time": "2023-06-19T23:28:39.970544900Z",
     "start_time": "2023-06-19T23:28:39.946708900Z"
    }
   }
  },
  {
   "cell_type": "code",
   "execution_count": 15,
   "outputs": [
    {
     "name": "stderr",
     "output_type": "stream",
     "text": [
      "C:\\Users\\123\\PycharmProjects\\torch-models\\Bert.py:49: TracerWarning: torch.tensor results are registered as constants in the trace. You can safely ignore this warning if you use this function to create tensors out of constant variables that would be the same every time you call this function. In any other case, this might cause the trace to be incorrect.\n",
      "  pad = torch.eq(mask0, torch.tensor(False, device=self.device, dtype=torch.bool))\n"
     ]
    },
    {
     "name": "stdout",
     "output_type": "stream",
     "text": [
      "======= Diagnostic Run torch.onnx.export version 2.1.0.dev20230519+cu121 =======\n",
      "verbose: False, log level: 40\n",
      "======================= 0 NONE 0 NOTE 0 WARNING 0 ERROR ========================\n",
      "\n",
      "Serving './demo.pth' at http://localhost:8080\n"
     ]
    },
    {
     "data": {
      "text/plain": "('localhost', 8080)"
     },
     "execution_count": 15,
     "metadata": {},
     "output_type": "execute_result"
    }
   ],
   "source": [
    "text = bert.tokenizer.encode('The [MASK] way to miss [MASK] is to be sitting right beside them knowing you [MASK] have them.').ids\n",
    "text = torch.nn.functional.pad(torch.tensor(text, device=bert.device, dtype=torch.int16),\n",
    "                               (0, bert.max_length - len(text)))\n",
    "prob_mask = text == torch.tensor(bert.tokenizer.token_to_id('[MASK]'), device=bert.device,\n",
    "                                 dtype=torch.int16)\n",
    "mask0 = text != 0\n",
    "modelData = \"./demo.pth\"\n",
    "torch.onnx.export(bert, (text, mask0), modelData)\n",
    "netron.start(modelData)"
   ],
   "metadata": {
    "collapsed": false,
    "ExecuteTime": {
     "end_time": "2023-06-19T23:29:35.227679100Z",
     "start_time": "2023-06-19T23:29:32.337493800Z"
    }
   }
  },
  {
   "cell_type": "code",
   "execution_count": null,
   "outputs": [],
   "source": [],
   "metadata": {
    "collapsed": false
   }
  }
 ],
 "metadata": {
  "kernelspec": {
   "display_name": "Python 3 (ipykernel)",
   "language": "python",
   "name": "python3"
  },
  "language_info": {
   "codemirror_mode": {
    "name": "ipython",
    "version": 3
   },
   "file_extension": ".py",
   "mimetype": "text/x-python",
   "name": "python",
   "nbconvert_exporter": "python",
   "pygments_lexer": "ipython3",
   "version": "3.10.9"
  },
  "varInspector": {
   "cols": {
    "lenName": 16,
    "lenType": 16,
    "lenVar": 40
   },
   "kernels_config": {
    "python": {
     "delete_cmd_postfix": "",
     "delete_cmd_prefix": "del ",
     "library": "var_list.py",
     "varRefreshCmd": "print(var_dic_list())"
    },
    "r": {
     "delete_cmd_postfix": ") ",
     "delete_cmd_prefix": "rm(",
     "library": "var_list.r",
     "varRefreshCmd": "cat(var_dic_list()) "
    }
   },
   "types_to_exclude": [
    "module",
    "function",
    "builtin_function_or_method",
    "instance",
    "_Feature"
   ],
   "window_display": false
  }
 },
 "nbformat": 4,
 "nbformat_minor": 1
}
